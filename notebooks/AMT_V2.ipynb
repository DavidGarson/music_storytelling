{
 "cells": [
  {
   "cell_type": "code",
   "execution_count": 1,
   "metadata": {},
   "outputs": [],
   "source": [
    "import pandas as pd\n",
    "import numpy as np\n",
    "import os"
   ]
  },
  {
   "cell_type": "code",
   "execution_count": 2,
   "metadata": {},
   "outputs": [],
   "source": [
    "path = \"../data/external/AMT_V2\""
   ]
  },
  {
   "cell_type": "code",
   "execution_count": null,
   "metadata": {},
   "outputs": [],
   "source": [
    "files = [os.path.join(path,i) for i in os.listdir(path) if os.path.isfile(os.path.join(path,i))]\n",
    "# prints all files\n",
    "print(file)"
   ]
  },
  {
   "cell_type": "code",
   "execution_count": 4,
   "metadata": {},
   "outputs": [
    {
     "name": "stderr",
     "output_type": "stream",
     "text": [
      "c:\\Users\\aoutd\\anaconda3\\envs\\storytelling_project\\lib\\site-packages\\openpyxl\\styles\\stylesheet.py:226: UserWarning: Workbook contains no default style, apply openpyxl's default\n",
      "  warn(\"Workbook contains no default style, apply openpyxl's default\")\n"
     ]
    }
   ],
   "source": [
    "for file in files:\n",
    "    if file.endswith('.csv')\n",
    "    df_AMT = pd.read_csv(file, delimiter=',')"
   ]
  },
  {
   "cell_type": "code",
   "execution_count": null,
   "metadata": {},
   "outputs": [],
   "source": [
    "# create a list with sheet numbers you want to process\n",
    "sheets = map(str,range(1,6))\n",
    "\n",
    "# convert each sheet to csv and then read it using read_csv\n",
    "df={}\n",
    "from subprocess import call\n",
    "excel='C:\\\\Users\\\\rsignell\\\\OTT_Data_All_stations.xlsx'\n",
    "for sheet in sheets:\n",
    "    csv = 'C:\\\\Users\\\\rsignell\\\\test' + sheet + '.csv' \n",
    "    call(['cscript.exe', 'C:\\\\Users\\\\rsignell\\\\ExcelToCsv.vbs', excel, csv, sheet])\n",
    "    df[sheet]=pd.read_csv(csv)"
   ]
  },
  {
   "cell_type": "code",
   "execution_count": null,
   "metadata": {},
   "outputs": [],
   "source": [
    "full_exclud = df_AMT['MID'].unique()\n",
    "full_exclud = full_exclud.tolist()"
   ]
  },
  {
   "cell_type": "code",
   "execution_count": null,
   "metadata": {},
   "outputs": [],
   "source": [
    "full_exclud.extend(unique_exclud_AMT_list)"
   ]
  },
  {
   "cell_type": "code",
   "execution_count": null,
   "metadata": {},
   "outputs": [],
   "source": [
    "result = [s.strip() for s in full_exclud]"
   ]
  }
 ],
 "metadata": {
  "kernelspec": {
   "display_name": "Python 3.8.13 ('storytelling_project')",
   "language": "python",
   "name": "python3"
  },
  "language_info": {
   "codemirror_mode": {
    "name": "ipython",
    "version": 3
   },
   "file_extension": ".py",
   "mimetype": "text/x-python",
   "name": "python",
   "nbconvert_exporter": "python",
   "pygments_lexer": "ipython3",
   "version": "3.8.13"
  },
  "orig_nbformat": 4,
  "vscode": {
   "interpreter": {
    "hash": "02ab0868ef0b3b64928c0109ceb372b8995635c28e45c488248a9630d38f02b3"
   }
  }
 },
 "nbformat": 4,
 "nbformat_minor": 2
}
