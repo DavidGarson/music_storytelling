{
 "cells": [],
 "metadata": {
  "kernelspec": {
   "display_name": "Python 3.7.13 ('storytelling_project')",
   "language": "python",
   "name": "python3"
  },
  "language_info": {
   "codemirror_mode": {
    "name": "ipython",
    "version": 3
   },
   "file_extension": ".py",
   "mimetype": "text/x-python",
   "name": "python",
   "nbconvert_exporter": "python",
   "pygments_lexer": "ipython3",
   "version": "3.7.13"
  },
  "orig_nbformat": 4,
  "vscode": {
   "interpreter": {
    "hash": "02ab0868ef0b3b64928c0109ceb372b8995635c28e45c488248a9630d38f02b3"
   }
  }
 },
 "nbformat": 4,
 "nbformat_minor": 2
}
